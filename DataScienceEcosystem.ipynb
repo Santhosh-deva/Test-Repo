{
  "metadata": {
    "kernelspec": {
      "name": "python",
      "display_name": "Python (Pyodide)",
      "language": "python"
    },
    "language_info": {
      "codemirror_mode": {
        "name": "python",
        "version": 3
      },
      "file_extension": ".py",
      "mimetype": "text/x-python",
      "name": "python",
      "nbconvert_exporter": "python",
      "pygments_lexer": "ipython3",
      "version": "3.8"
    }
  },
  "nbformat_minor": 5,
  "nbformat": 4,
  "cells": [
    {
      "id": "feb04ded-d478-4b8e-a68a-94fc77a45a8a",
      "cell_type": "markdown",
      "source": "# Data Science Tools and Ecosystem",
      "metadata": {}
    },
    {
      "id": "e43c0034-6ef7-4a94-9333-f9453ae4eba2",
      "cell_type": "markdown",
      "source": "In this notebook, Data Science Tools and Ecosystem are summarized.",
      "metadata": {}
    },
    {
      "id": "0925bce0-d77b-42c2-b2a8-469931c4fdfd",
      "cell_type": "markdown",
      "source": "Some of the popular languages that Data Scientists use are:\n\n1. Python\n2. R\n3. SQL\n4. Julia\n",
      "metadata": {}
    },
    {
      "id": "8f00cd33-947b-418c-9ea2-900f83a3cd37",
      "cell_type": "markdown",
      "source": "Some of the commonly used libraries used by Data Scientists include:\n\n1. Pandas\n2. NumPy\n3. Matplotlib\n4. scikit-learn\n",
      "metadata": {}
    },
    {
      "id": "121fc3a5-0360-486a-be16-1b51b8fad43c",
      "cell_type": "markdown",
      "source": "| Data Science Tools |\n|--------------------|\n| Jupyter Notebook   |\n| RStudio            |\n| VS Code            |",
      "metadata": {}
    },
    {
      "id": "52f6ffd9-dc86-4739-bd94-00423a78ac92",
      "cell_type": "markdown",
      "source": "### Below are a few examples of evaluating arithmetic expressions in Python.",
      "metadata": {}
    },
    {
      "id": "29017719-04c8-4cd9-b03c-b4055374b981",
      "cell_type": "code",
      "source": "# This a simple arithmetic expression to multiply then add integers\n(3*4) + 5",
      "metadata": {
        "trusted": true
      },
      "outputs": [
        {
          "execution_count": 2,
          "output_type": "execute_result",
          "data": {
            "text/plain": "17"
          },
          "metadata": {}
        }
      ],
      "execution_count": 2
    },
    {
      "id": "86a9918f-a80a-4b35-afb0-b5b3f9e6451f",
      "cell_type": "code",
      "source": "# This will convert 200 minutes to hours by dividing by 60\n200 / 60\n",
      "metadata": {
        "trusted": true
      },
      "outputs": [
        {
          "execution_count": 3,
          "output_type": "execute_result",
          "data": {
            "text/plain": "3.3333333333333335"
          },
          "metadata": {}
        }
      ],
      "execution_count": 3
    },
    {
      "id": "8283950d-4f81-4989-bdaa-6aae9bdf7912",
      "cell_type": "markdown",
      "source": "**Objectives:**\n\n- List popular languages for Data Science\n- List commonly used libraries in Data Science\n- Create tables using Markdown\n- Perform arithmetic operations in Python\n- Convert units (minutes to hours)\n",
      "metadata": {}
    },
    {
      "id": "fb7bbc0b-a3fa-4cb0-b5bf-9f3b027772b4",
      "cell_type": "markdown",
      "source": "## Author\nSanthosh K",
      "metadata": {}
    },
    {
      "id": "a2cf8218-bbca-4653-a58c-1c8b4acadd5f",
      "cell_type": "code",
      "source": "",
      "metadata": {
        "trusted": true
      },
      "outputs": [],
      "execution_count": null
    }
  ]
}